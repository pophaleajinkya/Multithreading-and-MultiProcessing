{
  "nbformat": 4,
  "nbformat_minor": 0,
  "metadata": {
    "colab": {
      "provenance": []
    },
    "kernelspec": {
      "name": "python3",
      "display_name": "Python 3"
    },
    "language_info": {
      "name": "python"
    }
  },
  "cells": [
    {
      "cell_type": "markdown",
      "source": [
        "# Multithreading in python"
      ],
      "metadata": {
        "id": "HXobS3hWliB7"
      }
    },
    {
      "cell_type": "code",
      "execution_count": 34,
      "metadata": {
        "id": "h6h2IYvblVfO"
      },
      "outputs": [],
      "source": [
        "import threading\n",
        "import time"
      ]
    },
    {
      "cell_type": "code",
      "source": [
        "def print_numbers():\n",
        "  for i in range(10):\n",
        "    print(\"Numbers\",[i])\n",
        "    time.sleep(1)"
      ],
      "metadata": {
        "id": "jDkD8NiZlhCh"
      },
      "execution_count": 35,
      "outputs": []
    },
    {
      "cell_type": "code",
      "source": [
        "def print_letter():\n",
        "  for i in 'abcdefghij':\n",
        "    print(\"Letters\",[i])\n",
        "    time.sleep(1)"
      ],
      "metadata": {
        "id": "hVS9CCeamJEz"
      },
      "execution_count": 36,
      "outputs": []
    },
    {
      "cell_type": "code",
      "source": [
        "t=time.time()\n",
        "print_numbers()\n",
        "print_letter()\n",
        "print(time.time()-t)"
      ],
      "metadata": {
        "colab": {
          "base_uri": "https://localhost:8080/"
        },
        "id": "WknXsjgdleuO",
        "outputId": "d9fa5c8a-7a56-4d2b-dcb8-6c6a99eba464"
      },
      "execution_count": 37,
      "outputs": [
        {
          "output_type": "stream",
          "name": "stdout",
          "text": [
            "Numbers [0]\n",
            "Numbers [1]\n",
            "Numbers [2]\n",
            "Numbers [3]\n",
            "Numbers [4]\n",
            "Numbers [5]\n",
            "Numbers [6]\n",
            "Numbers [7]\n",
            "Numbers [8]\n",
            "Numbers [9]\n",
            "Letters ['a']\n",
            "Letters ['b']\n",
            "Letters ['c']\n",
            "Letters ['d']\n",
            "Letters ['e']\n",
            "Letters ['f']\n",
            "Letters ['g']\n",
            "Letters ['h']\n",
            "Letters ['i']\n",
            "Letters ['j']\n",
            "20.026936769485474\n"
          ]
        }
      ]
    },
    {
      "cell_type": "code",
      "source": [
        "# But in Multi threading:\n",
        "#We can observe how the time taken by each function reduces from 20 seconds to 10 second.\n",
        "thread1=threading.Thread(target=print_numbers)\n",
        "thread2=threading.Thread(target=print_letter)\n",
        "t=time.time()\n",
        "thread1.start()\n",
        "thread2.start()\n",
        "thread1.join()\n",
        "thread2.join()\n",
        "print(time.time()-t)"
      ],
      "metadata": {
        "colab": {
          "base_uri": "https://localhost:8080/"
        },
        "id": "nAVJx4xpmZF9",
        "outputId": "ba595703-ca1a-4db2-9176-70618a06f8ee"
      },
      "execution_count": 38,
      "outputs": [
        {
          "output_type": "stream",
          "name": "stdout",
          "text": [
            "Numbers [0]\n",
            "Letters ['a']\n",
            "Numbers [1]\n",
            "Letters ['b']\n",
            "Numbers [2]\n",
            "Letters ['c']\n",
            "Numbers [3]\n",
            "Letters ['d']\n",
            "Numbers [4]\n",
            "Letters ['e']\n",
            "Numbers [5]\n",
            "Letters ['f']\n",
            "Numbers [6]\n",
            "Letters ['g']\n",
            "NumbersLetters [7]\n",
            " ['h']\n",
            "NumbersLetters ['i']\n",
            " [8]\n",
            "LettersNumbers [9]\n",
            " ['j']\n",
            "10.017329216003418\n"
          ]
        }
      ]
    },
    {
      "cell_type": "markdown",
      "source": [
        "#Or"
      ],
      "metadata": {
        "id": "af9kIvJnC3dV"
      }
    },
    {
      "cell_type": "code",
      "source": [
        "t3=time.time()\n",
        "with ThreadPoolExecutor(max_workers=10) as executor:\n",
        "  executor.submit(print_square)\n",
        "print(time.time()-t3)"
      ],
      "metadata": {
        "colab": {
          "base_uri": "https://localhost:8080/"
        },
        "id": "gmTGZMmxAzhH",
        "outputId": "ce183be6-9055-4405-8d6e-9ae1ae2dde91"
      },
      "execution_count": 54,
      "outputs": [
        {
          "output_type": "stream",
          "name": "stdout",
          "text": [
            "Square [0]\n",
            "Square [1]\n",
            "Square [4]\n",
            "Square [9]\n",
            "Square [16]\n",
            "Square [25]\n",
            "Square [36]\n",
            "Square [49]\n",
            "Square [64]\n",
            "Square [81]\n",
            "10.016592502593994\n"
          ]
        }
      ]
    },
    {
      "cell_type": "markdown",
      "source": [
        "#Multiprocessing"
      ],
      "metadata": {
        "id": "NHV-iaNd9Udj"
      }
    },
    {
      "cell_type": "markdown",
      "source": [
        "Process that run in parallel\n",
        "CPU bound tasks - Tasks that are heavy on CPU usage.\n",
        "Parallel Execution\n"
      ],
      "metadata": {
        "id": "2prKcDEo9cLd"
      }
    },
    {
      "cell_type": "code",
      "source": [
        "import multiprocessing\n",
        "import time"
      ],
      "metadata": {
        "id": "3K5da4-GnTM1"
      },
      "execution_count": 39,
      "outputs": []
    },
    {
      "cell_type": "code",
      "source": [
        "def print_square():\n",
        "  for i in range(10):\n",
        "    print(\"Square\",[i**2])\n",
        "    time.sleep(1)"
      ],
      "metadata": {
        "id": "GBi1DrM69zIb"
      },
      "execution_count": 40,
      "outputs": []
    },
    {
      "cell_type": "code",
      "source": [
        "def print_cube():\n",
        "  for i in range(10):\n",
        "    print(\"Cube\",[i**3])\n",
        "    time.sleep(1)"
      ],
      "metadata": {
        "id": "-jRp2GdR-gFI"
      },
      "execution_count": 41,
      "outputs": []
    },
    {
      "cell_type": "code",
      "source": [
        "t1=time.time()\n",
        "print(print_square())\n",
        "print(print_cube())\n",
        "print(time.time()-t1)"
      ],
      "metadata": {
        "colab": {
          "base_uri": "https://localhost:8080/"
        },
        "id": "YvY77u_r-huu",
        "outputId": "84818716-7bb4-47c7-cda7-76676f58eff4"
      },
      "execution_count": 42,
      "outputs": [
        {
          "output_type": "stream",
          "name": "stdout",
          "text": [
            "Square [0]\n",
            "Square [1]\n",
            "Square [4]\n",
            "Square [9]\n",
            "Square [16]\n",
            "Square [25]\n",
            "Square [36]\n",
            "Square [49]\n",
            "Square [64]\n",
            "Square [81]\n",
            "None\n",
            "Cube [0]\n",
            "Cube [1]\n",
            "Cube [8]\n",
            "Cube [27]\n",
            "Cube [64]\n",
            "Cube [125]\n",
            "Cube [216]\n",
            "Cube [343]\n",
            "Cube [512]\n",
            "Cube [729]\n",
            "None\n",
            "20.033071517944336\n"
          ]
        }
      ]
    },
    {
      "cell_type": "code",
      "source": [
        "from multiprocessing import process\n",
        "process1=multiprocessing.Process(target=print_square)\n",
        "process2=multiprocessing.Process(target=print_cube)\n",
        "t2=time.time()\n",
        "process1.start()\n",
        "process2.start()\n",
        "process1.join()\n",
        "process2.join()\n",
        "print(time.time()-t2)"
      ],
      "metadata": {
        "colab": {
          "base_uri": "https://localhost:8080/"
        },
        "id": "wTtUFZPu-zNb",
        "outputId": "f6b18db1-a761-453b-fa56-7f6c8ef8d978"
      },
      "execution_count": 46,
      "outputs": [
        {
          "output_type": "stream",
          "name": "stdout",
          "text": [
            "Square Cube [0][0]\n",
            "\n",
            "Square Cube [1][1]\n",
            "\n",
            "Cube [8]\n",
            "Square [4]\n",
            "Cube [27]\n",
            "Square [9]\n",
            "Cube [64]\n",
            "Square [16]\n",
            "Cube [125]Square\n",
            " [25]\n",
            "CubeSquare [216] \n",
            "[36]\n",
            "CubeSquare [343] \n",
            "[49]\n",
            "Square Cube[64]\n",
            " [512]\n",
            "Square [81]\n",
            "Cube [729]\n",
            "10.206677436828613\n"
          ]
        }
      ]
    },
    {
      "cell_type": "markdown",
      "source": [
        "#ThreadPool Executor"
      ],
      "metadata": {
        "id": "Sgd-wH_IA0qo"
      }
    },
    {
      "cell_type": "markdown",
      "source": [
        "Fastest Threading method"
      ],
      "metadata": {
        "id": "QbpT2RkiB_Fi"
      }
    },
    {
      "cell_type": "code",
      "source": [
        "from concurrent.futures import ThreadPoolExecutor\n",
        "import time"
      ],
      "metadata": {
        "id": "EfwawDlJ_HGm"
      },
      "execution_count": 48,
      "outputs": []
    },
    {
      "cell_type": "code",
      "source": [
        "t3=time.time()\n",
        "with ThreadPoolExecutor(max_workers=10) as executor:\n",
        "  results=executor.map(print_square)\n",
        "for result in results:\n",
        "  print(result)\n",
        "print(time.time()-t3)"
      ],
      "metadata": {
        "colab": {
          "base_uri": "https://localhost:8080/"
        },
        "id": "uNZFSjORA_u7",
        "outputId": "661fa0a5-b3bc-41ac-8c99-6b2ca24a51ae"
      },
      "execution_count": 52,
      "outputs": [
        {
          "output_type": "stream",
          "name": "stdout",
          "text": [
            "0.0003533363342285156\n"
          ]
        }
      ]
    },
    {
      "cell_type": "code",
      "source": [
        "t3=time.time()\n",
        "with ThreadPoolExecutor(max_workers=10) as executor:\n",
        "  results=executor.map(print_cube)\n",
        "for result in results:\n",
        "  print(result)\n",
        "print(time.time()-t3)"
      ],
      "metadata": {
        "colab": {
          "base_uri": "https://localhost:8080/"
        },
        "id": "iBxD4fD8BtO4",
        "outputId": "a05b68fd-e8a0-4b47-b543-399b42857a74"
      },
      "execution_count": 53,
      "outputs": [
        {
          "output_type": "stream",
          "name": "stdout",
          "text": [
            "0.0002892017364501953\n"
          ]
        }
      ]
    },
    {
      "cell_type": "markdown",
      "source": [
        "#ProcessPool Executor"
      ],
      "metadata": {
        "id": "bGXfJQQJCDvu"
      }
    },
    {
      "cell_type": "markdown",
      "source": [
        "Fastest method in process execution"
      ],
      "metadata": {
        "id": "aGIZo1JRCpmY"
      }
    },
    {
      "cell_type": "code",
      "source": [
        "from concurrent.futures import ProcessPoolExecutor\n",
        "import time"
      ],
      "metadata": {
        "id": "j2LSk6fiBz-W"
      },
      "execution_count": 55,
      "outputs": []
    },
    {
      "cell_type": "code",
      "source": [
        "t3=time.time()\n",
        "with ProcessPoolExecutor(max_workers=10) as executor:\n",
        "  results=executor.map(print_square)\n",
        "for result in results:\n",
        "  print(result)\n",
        "print(time.time()-t3)"
      ],
      "metadata": {
        "colab": {
          "base_uri": "https://localhost:8080/"
        },
        "id": "NB8mMB3wCRYz",
        "outputId": "39b8f1f0-fb6e-4aa5-a5b7-926541f511b8"
      },
      "execution_count": 56,
      "outputs": [
        {
          "output_type": "stream",
          "name": "stdout",
          "text": [
            "0.005758047103881836\n"
          ]
        }
      ]
    },
    {
      "cell_type": "code",
      "source": [
        "t3=time.time()\n",
        "with ProcessPoolExecutor(max_workers=10) as executor:\n",
        "  results=executor.map(print_cube)\n",
        "for result in results:\n",
        "  print(result)\n",
        "print(time.time()-t3)"
      ],
      "metadata": {
        "colab": {
          "base_uri": "https://localhost:8080/"
        },
        "id": "F3-nAPUwCZFe",
        "outputId": "e060cff2-b5e9-4266-f79d-1ad85e108e6d"
      },
      "execution_count": 57,
      "outputs": [
        {
          "output_type": "stream",
          "name": "stdout",
          "text": [
            "0.0025260448455810547\n"
          ]
        }
      ]
    }
  ]
}